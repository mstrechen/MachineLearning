{
 "cells": [
  {
   "cell_type": "markdown",
   "metadata": {},
   "source": [
    "## Image classifier (least squares method)\n",
    "\n",
    "This is simple classifier based on [least squares method](https://en.wikipedia.org/wiki/Least_squares)."
   ]
  },
  {
   "cell_type": "markdown",
   "metadata": {},
   "source": [
    "First of all, let's import numpy and time libraries. "
   ]
  },
  {
   "cell_type": "code",
   "execution_count": 1,
   "metadata": {},
   "outputs": [],
   "source": [
    "import numpy as np\n",
    "import time"
   ]
  },
  {
   "cell_type": "markdown",
   "metadata": {},
   "source": [
    "Now, let's read the data. It is written in two files (<i>mnist_train.csv</i> and <i>mnist_test.csv</i>) picked from [here](https://pjreddie.com/projects/mnist-in-csv/). \n",
    "\n",
    "<b>Attention!</b> Reading and parsing big csv files needs some memory (up to a couple of gigabytes) and some calculation power, so it's better to run the following block of code only once."
   ]
  },
  {
   "cell_type": "code",
   "execution_count": 2,
   "metadata": {},
   "outputs": [],
   "source": [
    "train_data = np.loadtxt(\"mnist_train.csv\", delimiter=',')\n",
    "test_data = np.loadtxt(\"mnist_test.csv\", delimiter=',')"
   ]
  },
  {
   "cell_type": "markdown",
   "metadata": {},
   "source": [
    "As you can see, we have 60k vectors representing images in `train_data` and 10k vectors in `test_data`. Every vector has 785 values - first one is the tag (a digit from 0 to 9) and next 784 numbers represent the image of this digit (actually it is reshaped 28x28 matrix of pixels, modified for easier processing)."
   ]
  },
  {
   "cell_type": "code",
   "execution_count": 3,
   "metadata": {},
   "outputs": [
    {
     "name": "stdout",
     "output_type": "stream",
     "text": [
      "(60000, 785)\n",
      "(10000, 785)\n"
     ]
    }
   ],
   "source": [
    "print(train_data.shape)\n",
    "print(test_data.shape)"
   ]
  },
  {
   "cell_type": "markdown",
   "metadata": {},
   "source": [
    "So, let's start. Our algorithm has complexity of $O(N \\times M \\times L)$, where $N$ is the size of train selection, $M$ is the size of test selection and $L$ represents the length of vectors in selections. Therefore, we need to choose  subsets of our selections and  work with it, no with the full data. \n",
    "\n",
    "We still can take full data, but then computations will require a lot of time."
   ]
  },
  {
   "cell_type": "code",
   "execution_count": 4,
   "metadata": {},
   "outputs": [],
   "source": [
    "train_size = 10000\n",
    "test_size = 1000\n",
    "IMAGE_LENGTH = test_data.shape[1] - 1"
   ]
  },
  {
   "cell_type": "code",
   "execution_count": 5,
   "metadata": {},
   "outputs": [],
   "source": [
    "def get_random_subset(data, new_size):\n",
    "    old_size = data.shape[0]\n",
    "    indexes = np.random.choice(old_size, new_size, replace = False)\n",
    "    labels = data[indexes, 0].astype(int)\n",
    "    images = data[indexes, 1:]\n",
    "    return labels, images\n",
    "\n",
    "train_labels, train_img = get_random_subset(train_data, train_size)\n",
    "test_labels, test_img = get_random_subset(test_data, test_size)"
   ]
  },
  {
   "cell_type": "markdown",
   "metadata": {},
   "source": [
    "Now, let's write our classifier itself. As said above, we will use the least squares method. \n",
    "\n",
    "How does it work?\n",
    "For every sample from test selection (which is a vector), we need to find the closest (by Euclidean distance) vector from train selection. The label of the closest vector will be the \"predicted\" label of vector from test selection.\n",
    "\n",
    "\n",
    "<b>Comment:</b> for small sizes of test and train subsets we could vectorize our algorithm by creating matrix of Euclidean distance between each pair of vectors. However, it will rise memory usage which is critical for huge subsets of images.   "
   ]
  },
  {
   "cell_type": "code",
   "execution_count": 6,
   "metadata": {},
   "outputs": [],
   "source": [
    "def classify_image(test_img, train_img, train_labels):\n",
    "    DM = np.square(test_img - train_img).sum(axis = 1)\n",
    "    index = DM.argmin(axis = 0)\n",
    "    return train_labels[index]"
   ]
  },
  {
   "cell_type": "markdown",
   "metadata": {},
   "source": [
    "Now let's test our algorithm. We will also measure time of execution using `time` library. "
   ]
  },
  {
   "cell_type": "code",
   "execution_count": 7,
   "metadata": {},
   "outputs": [
    {
     "name": "stdout",
     "output_type": "stream",
     "text": [
      "SAMPLES COUNT : 10000\n",
      "TESTS COUNT   : 1000\n",
      "ACCURACY      : 94.4 %\n",
      "CPU times: user 1min 36s, sys: 2.94 s, total: 1min 39s\n",
      "Wall time: 49.9 s\n"
     ]
    }
   ],
   "source": [
    "%%time\n",
    "\n",
    "predicted_results = [classify_image(test, train_img, train_labels) \n",
    "                     for test in test_img]\n",
    "\n",
    "success_count = (predicted_results == test_labels).sum()\n",
    "accuracy = success_count / test_size\n",
    "\n",
    "print(\"SAMPLES COUNT :\", train_size)\n",
    "print(\"TESTS COUNT   :\", test_size)\n",
    "print(\"ACCURACY      :\", np.round(accuracy * 100, 2), '%')"
   ]
  },
  {
   "cell_type": "markdown",
   "metadata": {},
   "source": [
    "Well done!\n",
    "\n",
    "Now let's see how accuracy depends on size of train subset. Since small subsets has more contribution of random in result accuracy, we need to choose different subsets and run our classifier on each. As a result, we will take the average value of accuracy as our accuracy for a specific size of subset."
   ]
  },
  {
   "cell_type": "code",
   "execution_count": 8,
   "metadata": {},
   "outputs": [],
   "source": [
    "def get_average_accuracy(test_img, train_data, train_subset_size, iterations_count):\n",
    "    total_accuracy = 0\n",
    "    \n",
    "    for i in range(iterations_count):\n",
    "        train_labels, train_img = get_random_subset(train_data, train_subset_size)        \n",
    "        predicted_results = [classify_image(test, train_img, train_labels) \n",
    "                             for test in test_img]\n",
    "        success_count = (predicted_results == test_labels).sum()\n",
    "        total_accuracy += success_count / test_labels.shape[0]\n",
    "   \n",
    "    return total_accuracy / iterations_count"
   ]
  },
  {
   "cell_type": "code",
   "execution_count": 9,
   "metadata": {},
   "outputs": [
    {
     "name": "stdout",
     "output_type": "stream",
     "text": [
      "CPU times: user 11min 46s, sys: 48.4 s, total: 12min 35s\n",
      "Wall time: 6min 39s\n"
     ]
    }
   ],
   "source": [
    "%%time\n",
    "\n",
    "size_of_subset_v = [50,  200, 500, 1000, 2000, 5000, 10000]\n",
    "count_of_iters_v = [100, 40,  20,  15,   10,   3,    1]\n",
    "\n",
    "accuracy_info = [get_average_accuracy(test_img, train_data, size, iters)\n",
    "                    for size, iters in zip(size_of_subset_v, count_of_iters_v)]"
   ]
  },
  {
   "cell_type": "markdown",
   "metadata": {},
   "source": [
    "Let's visualize our results using $matplotlib$. Note that x-axis is logarithmically scaled."
   ]
  },
  {
   "cell_type": "code",
   "execution_count": 11,
   "metadata": {},
   "outputs": [
    {
     "data": {
      "image/png": "[encoded data removed]",
      "text/plain": [
       "<Figure size 432x288 with 1 Axes>"
      ]
     },
     "metadata": {
      "needs_background": "light"
     },
     "output_type": "display_data"
    }
   ],
   "source": [
    "import matplotlib.pyplot as plt\n",
    "\n",
    "plt.semilogx(size_of_subset_v, accuracy_info, color = \"g\")\n",
    "plt.scatter(size_of_subset_v, accuracy_info, color = \"b\")\n",
    "\n",
    "plt.xlabel(\"Size of train subset\")\n",
    "plt.ylabel(\"Accuracy\")\n",
    "plt.grid(axis=\"y\", which=\"both\", linestyle='--')\n",
    "\n",
    "plt.show()"
   ]
  },
  {
   "cell_type": "markdown",
   "metadata": {},
   "source": [
    "As it was expected, the accuracy depends on size of train subset. \n",
    "\n",
    "#### Summary: \n",
    "Least squares method is quite good for such type of dataset. It is easy-to-understand and easy-to-code, but it is very sensitive for bad data. Plus this method has to work with the full train dataset every time we want to get prediction. \n",
    "\n",
    "So, you could choose this method if:\n",
    "* Your dataset is well-separated and clear (has no wrong data) \n",
    "* It's easy to separate test data using the small subset of train data\n",
    "* You have no time for understanding and coding better and more complex soutions\n"
   ]
  }
 ],
 "metadata": {
  "kernelspec": {
   "display_name": "Python [conda env:MachineLearning]",
   "language": "python",
   "name": "conda-env-MachineLearning-py"
  },
  "language_info": {
   "codemirror_mode": {
    "name": "ipython",
    "version": 3
   },
   "file_extension": ".py",
   "mimetype": "text/x-python",
   "name": "python",
   "nbconvert_exporter": "python",
   "pygments_lexer": "ipython3",
   "version": "3.6.5"
  }
 },
 "nbformat": 4,
 "nbformat_minor": 2
}
